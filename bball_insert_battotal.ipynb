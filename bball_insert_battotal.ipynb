{
  "nbformat": 4,
  "nbformat_minor": 0,
  "metadata": {
    "colab": {
      "name": "bball_insert_battotal",
      "provenance": [],
      "collapsed_sections": [],
      "include_colab_link": true
    },
    "kernelspec": {
      "name": "python3",
      "display_name": "Python 3"
    }
  },
  "cells": [
    {
      "cell_type": "markdown",
      "metadata": {
        "id": "view-in-github",
        "colab_type": "text"
      },
      "source": [
        "<a href=\"https://colab.research.google.com/github/somang4819/Stella-OpenStack/blob/master/bball_insert_battotal.ipynb\" target=\"_parent\"><img src=\"https://colab.research.google.com/assets/colab-badge.svg\" alt=\"Open In Colab\"/></a>"
      ]
    },
    {
      "cell_type": "code",
      "metadata": {
        "id": "xOoYk9yQkwhN",
        "colab_type": "code",
        "colab": {}
      },
      "source": [
        "import csv"
      ],
      "execution_count": 0,
      "outputs": []
    },
    {
      "cell_type": "code",
      "metadata": {
        "id": "1ap7nIaw5D8J",
        "colab_type": "code",
        "colab": {}
      },
      "source": [
        "try:\n",
        "  import urlparse\n",
        "except ImportError:\n",
        "  import urllib.parse as urlparse\n",
        "\n",
        "import csv\n",
        "import datetime\n",
        "import requests\n",
        "import base64\n",
        "import hashlib\n",
        "import hmac"
      ],
      "execution_count": 0,
      "outputs": []
    },
    {
      "cell_type": "code",
      "metadata": {
        "id": "t5w-SRyX5BI8",
        "colab_type": "code",
        "colab": {}
      },
      "source": [
        "SECRET = b'MCBftwfaePdG6WlYh3xf4CnM7AiGOPWP'\n",
        "BASEKEY = '8Bh3YiZsHnzQjhx9nK892w=='\n",
        "APIKEY = 'i3E8kEJIpAq9lSOHagdHZ19ZzB845htDBxZCpl5Le3k='\n",
        "\n",
        "BASEURL = 'https://ktaijson.sports2i.com/Api'\n",
        "# BASEURL = 'http://ktaijson.sports2i.com/Api'\n",
        "REQUEST_TIME_OUT = 120\n"
      ],
      "execution_count": 0,
      "outputs": []
    },
    {
      "cell_type": "code",
      "metadata": {
        "id": "tvoHoxTc5ahC",
        "colab_type": "code",
        "outputId": "04afa8f9-41d4-4ba0-f01d-72f065e904c5",
        "colab": {
          "base_uri": "https://localhost:8080/",
          "height": 34
        }
      },
      "source": [
        "baturl = BASEURL + '/Record/BATTOTAL?season_id=2020'\n",
        "print (baturl)"
      ],
      "execution_count": 4,
      "outputs": [
        {
          "output_type": "stream",
          "text": [
            "https://ktaijson.sports2i.com/Api/Record/BATTOTAL?season_id=2020\n"
          ],
          "name": "stdout"
        }
      ]
    },
    {
      "cell_type": "code",
      "metadata": {
        "id": "ZyigiZRo7CTq",
        "colab_type": "code",
        "colab": {}
      },
      "source": [
        "secret = SECRET\n",
        "#\n",
        "digest = hmac.new(secret, msg=str(baturl).encode('utf-8'), digestmod=hashlib.sha256).digest()\n",
        "signature = base64.b64encode(digest).decode()\n",
        "\n",
        "headers = {'baseKey': BASEKEY,\n",
        "            'hskey': signature,\n",
        "            'apiKey': APIKEY\n",
        "            }"
      ],
      "execution_count": 0,
      "outputs": []
    },
    {
      "cell_type": "code",
      "metadata": {
        "id": "eMbpH0ZiBgs6",
        "colab_type": "code",
        "colab": {}
      },
      "source": [
        "rbat = requests.get(baturl, headers=headers, timeout=120)"
      ],
      "execution_count": 0,
      "outputs": []
    },
    {
      "cell_type": "code",
      "metadata": {
        "id": "0vmn7ZSmB44s",
        "colab_type": "code",
        "colab": {}
      },
      "source": [
        "battotal =rbat.json()"
      ],
      "execution_count": 0,
      "outputs": []
    },
    {
      "cell_type": "code",
      "metadata": {
        "id": "AfdJN_sIKqJJ",
        "colab_type": "code",
        "outputId": "7e047600-4a14-4816-8b5b-2e6953542fd5",
        "colab": {
          "base_uri": "https://localhost:8080/",
          "height": 34
        }
      },
      "source": [
        "print (len(battotal['LIST']))"
      ],
      "execution_count": 8,
      "outputs": [
        {
          "output_type": "stream",
          "text": [
            "170\n"
          ],
          "name": "stdout"
        }
      ]
    },
    {
      "cell_type": "code",
      "metadata": {
        "id": "HnvXBebhTxC0",
        "colab_type": "code",
        "outputId": "64ed9d34-021f-4cce-989e-494f391d93ff",
        "colab": {
          "base_uri": "https://localhost:8080/",
          "height": 1000
        }
      },
      "source": [
        "for b in battotal['LIST']:\n",
        "  sql = 'UPDATE KBO_BATTOTAL SET PA_FLAG=' +b['PA_FLAG'] +' WHERE PCODE=\\''+b['PCODE'] +'\\' and GYEAR=\\'2020\\';'\n",
        "  print (sql)"
      ],
      "execution_count": 9,
      "outputs": [
        {
          "output_type": "stream",
          "text": [
            "UPDATE KBO_BATTOTAL SET PA_FLAG=True WHERE PCODE='72133' and GYEAR='2020';\n",
            "UPDATE KBO_BATTOTAL SET PA_FLAG=True WHERE PCODE='72443' and GYEAR='2020';\n",
            "UPDATE KBO_BATTOTAL SET PA_FLAG=True WHERE PCODE='73113' and GYEAR='2020';\n",
            "UPDATE KBO_BATTOTAL SET PA_FLAG=True WHERE PCODE='73136' and GYEAR='2020';\n",
            "UPDATE KBO_BATTOTAL SET PA_FLAG=False WHERE PCODE='73209' and GYEAR='2020';\n",
            "UPDATE KBO_BATTOTAL SET PA_FLAG=False WHERE PCODE='73342' and GYEAR='2020';\n",
            "UPDATE KBO_BATTOTAL SET PA_FLAG=True WHERE PCODE='74163' and GYEAR='2020';\n",
            "UPDATE KBO_BATTOTAL SET PA_FLAG=True WHERE PCODE='74206' and GYEAR='2020';\n",
            "UPDATE KBO_BATTOTAL SET PA_FLAG=False WHERE PCODE='74215' and GYEAR='2020';\n",
            "UPDATE KBO_BATTOTAL SET PA_FLAG=True WHERE PCODE='74339' and GYEAR='2020';\n",
            "UPDATE KBO_BATTOTAL SET PA_FLAG=True WHERE PCODE='74465' and GYEAR='2020';\n",
            "UPDATE KBO_BATTOTAL SET PA_FLAG=False WHERE PCODE='74540' and GYEAR='2020';\n",
            "UPDATE KBO_BATTOTAL SET PA_FLAG=True WHERE PCODE='75125' and GYEAR='2020';\n",
            "UPDATE KBO_BATTOTAL SET PA_FLAG=False WHERE PCODE='75151' and GYEAR='2020';\n",
            "UPDATE KBO_BATTOTAL SET PA_FLAG=True WHERE PCODE='75334' and GYEAR='2020';\n",
            "UPDATE KBO_BATTOTAL SET PA_FLAG=True WHERE PCODE='75566' and GYEAR='2020';\n",
            "UPDATE KBO_BATTOTAL SET PA_FLAG=True WHERE PCODE='75808' and GYEAR='2020';\n",
            "UPDATE KBO_BATTOTAL SET PA_FLAG=True WHERE PCODE='75847' and GYEAR='2020';\n",
            "UPDATE KBO_BATTOTAL SET PA_FLAG=False WHERE PCODE='76118' and GYEAR='2020';\n",
            "UPDATE KBO_BATTOTAL SET PA_FLAG=True WHERE PCODE='76232' and GYEAR='2020';\n",
            "UPDATE KBO_BATTOTAL SET PA_FLAG=True WHERE PCODE='76249' and GYEAR='2020';\n",
            "UPDATE KBO_BATTOTAL SET PA_FLAG=True WHERE PCODE='76267' and GYEAR='2020';\n",
            "UPDATE KBO_BATTOTAL SET PA_FLAG=True WHERE PCODE='76290' and GYEAR='2020';\n",
            "UPDATE KBO_BATTOTAL SET PA_FLAG=True WHERE PCODE='76313' and GYEAR='2020';\n",
            "UPDATE KBO_BATTOTAL SET PA_FLAG=True WHERE PCODE='76753' and GYEAR='2020';\n",
            "UPDATE KBO_BATTOTAL SET PA_FLAG=False WHERE PCODE='76802' and GYEAR='2020';\n",
            "UPDATE KBO_BATTOTAL SET PA_FLAG=False WHERE PCODE='76812' and GYEAR='2020';\n",
            "UPDATE KBO_BATTOTAL SET PA_FLAG=True WHERE PCODE='76849' and GYEAR='2020';\n",
            "UPDATE KBO_BATTOTAL SET PA_FLAG=False WHERE PCODE='77243' and GYEAR='2020';\n",
            "UPDATE KBO_BATTOTAL SET PA_FLAG=False WHERE PCODE='77248' and GYEAR='2020';\n",
            "UPDATE KBO_BATTOTAL SET PA_FLAG=False WHERE PCODE='77463' and GYEAR='2020';\n",
            "UPDATE KBO_BATTOTAL SET PA_FLAG=True WHERE PCODE='77532' and GYEAR='2020';\n",
            "UPDATE KBO_BATTOTAL SET PA_FLAG=True WHERE PCODE='77564' and GYEAR='2020';\n",
            "UPDATE KBO_BATTOTAL SET PA_FLAG=False WHERE PCODE='78122' and GYEAR='2020';\n",
            "UPDATE KBO_BATTOTAL SET PA_FLAG=True WHERE PCODE='78168' and GYEAR='2020';\n",
            "UPDATE KBO_BATTOTAL SET PA_FLAG=False WHERE PCODE='78217' and GYEAR='2020';\n",
            "UPDATE KBO_BATTOTAL SET PA_FLAG=True WHERE PCODE='78224' and GYEAR='2020';\n",
            "UPDATE KBO_BATTOTAL SET PA_FLAG=True WHERE PCODE='78288' and GYEAR='2020';\n",
            "UPDATE KBO_BATTOTAL SET PA_FLAG=True WHERE PCODE='78513' and GYEAR='2020';\n",
            "UPDATE KBO_BATTOTAL SET PA_FLAG=True WHERE PCODE='78548' and GYEAR='2020';\n",
            "UPDATE KBO_BATTOTAL SET PA_FLAG=True WHERE PCODE='78603' and GYEAR='2020';\n",
            "UPDATE KBO_BATTOTAL SET PA_FLAG=True WHERE PCODE='78629' and GYEAR='2020';\n",
            "UPDATE KBO_BATTOTAL SET PA_FLAG=False WHERE PCODE='78643' and GYEAR='2020';\n",
            "UPDATE KBO_BATTOTAL SET PA_FLAG=False WHERE PCODE='78756' and GYEAR='2020';\n",
            "UPDATE KBO_BATTOTAL SET PA_FLAG=False WHERE PCODE='78813' and GYEAR='2020';\n",
            "UPDATE KBO_BATTOTAL SET PA_FLAG=True WHERE PCODE='79109' and GYEAR='2020';\n",
            "UPDATE KBO_BATTOTAL SET PA_FLAG=False WHERE PCODE='79113' and GYEAR='2020';\n",
            "UPDATE KBO_BATTOTAL SET PA_FLAG=False WHERE PCODE='79150' and GYEAR='2020';\n",
            "UPDATE KBO_BATTOTAL SET PA_FLAG=True WHERE PCODE='79192' and GYEAR='2020';\n",
            "UPDATE KBO_BATTOTAL SET PA_FLAG=True WHERE PCODE='79215' and GYEAR='2020';\n",
            "UPDATE KBO_BATTOTAL SET PA_FLAG=True WHERE PCODE='79231' and GYEAR='2020';\n",
            "UPDATE KBO_BATTOTAL SET PA_FLAG=True WHERE PCODE='79240' and GYEAR='2020';\n",
            "UPDATE KBO_BATTOTAL SET PA_FLAG=True WHERE PCODE='79334' and GYEAR='2020';\n",
            "UPDATE KBO_BATTOTAL SET PA_FLAG=True WHERE PCODE='79365' and GYEAR='2020';\n",
            "UPDATE KBO_BATTOTAL SET PA_FLAG=True WHERE PCODE='79402' and GYEAR='2020';\n",
            "UPDATE KBO_BATTOTAL SET PA_FLAG=False WHERE PCODE='79456' and GYEAR='2020';\n",
            "UPDATE KBO_BATTOTAL SET PA_FLAG=True WHERE PCODE='79608' and GYEAR='2020';\n",
            "UPDATE KBO_BATTOTAL SET PA_FLAG=False WHERE PCODE='79705' and GYEAR='2020';\n",
            "UPDATE KBO_BATTOTAL SET PA_FLAG=False WHERE PCODE='50066' and GYEAR='2020';\n",
            "UPDATE KBO_BATTOTAL SET PA_FLAG=False WHERE PCODE='50150' and GYEAR='2020';\n",
            "UPDATE KBO_BATTOTAL SET PA_FLAG=True WHERE PCODE='50165' and GYEAR='2020';\n",
            "UPDATE KBO_BATTOTAL SET PA_FLAG=False WHERE PCODE='50202' and GYEAR='2020';\n",
            "UPDATE KBO_BATTOTAL SET PA_FLAG=True WHERE PCODE='50300' and GYEAR='2020';\n",
            "UPDATE KBO_BATTOTAL SET PA_FLAG=False WHERE PCODE='50458' and GYEAR='2020';\n",
            "UPDATE KBO_BATTOTAL SET PA_FLAG=True WHERE PCODE='50468' and GYEAR='2020';\n",
            "UPDATE KBO_BATTOTAL SET PA_FLAG=True WHERE PCODE='50506' and GYEAR='2020';\n",
            "UPDATE KBO_BATTOTAL SET PA_FLAG=False WHERE PCODE='50854' and GYEAR='2020';\n",
            "UPDATE KBO_BATTOTAL SET PA_FLAG=True WHERE PCODE='50923' and GYEAR='2020';\n",
            "UPDATE KBO_BATTOTAL SET PA_FLAG=False WHERE PCODE='60288' and GYEAR='2020';\n",
            "UPDATE KBO_BATTOTAL SET PA_FLAG=False WHERE PCODE='60343' and GYEAR='2020';\n",
            "UPDATE KBO_BATTOTAL SET PA_FLAG=True WHERE PCODE='60523' and GYEAR='2020';\n",
            "UPDATE KBO_BATTOTAL SET PA_FLAG=False WHERE PCODE='60558' and GYEAR='2020';\n",
            "UPDATE KBO_BATTOTAL SET PA_FLAG=False WHERE PCODE='60566' and GYEAR='2020';\n",
            "UPDATE KBO_BATTOTAL SET PA_FLAG=True WHERE PCODE='61102' and GYEAR='2020';\n",
            "UPDATE KBO_BATTOTAL SET PA_FLAG=True WHERE PCODE='61186' and GYEAR='2020';\n",
            "UPDATE KBO_BATTOTAL SET PA_FLAG=False WHERE PCODE='61197' and GYEAR='2020';\n",
            "UPDATE KBO_BATTOTAL SET PA_FLAG=False WHERE PCODE='61204' and GYEAR='2020';\n",
            "UPDATE KBO_BATTOTAL SET PA_FLAG=True WHERE PCODE='61208' and GYEAR='2020';\n",
            "UPDATE KBO_BATTOTAL SET PA_FLAG=True WHERE PCODE='61353' and GYEAR='2020';\n",
            "UPDATE KBO_BATTOTAL SET PA_FLAG=False WHERE PCODE='61365' and GYEAR='2020';\n",
            "UPDATE KBO_BATTOTAL SET PA_FLAG=True WHERE PCODE='61404' and GYEAR='2020';\n",
            "UPDATE KBO_BATTOTAL SET PA_FLAG=False WHERE PCODE='61566' and GYEAR='2020';\n",
            "UPDATE KBO_BATTOTAL SET PA_FLAG=False WHERE PCODE='61869' and GYEAR='2020';\n",
            "UPDATE KBO_BATTOTAL SET PA_FLAG=False WHERE PCODE='62025' and GYEAR='2020';\n",
            "UPDATE KBO_BATTOTAL SET PA_FLAG=False WHERE PCODE='62234' and GYEAR='2020';\n",
            "UPDATE KBO_BATTOTAL SET PA_FLAG=True WHERE PCODE='62244' and GYEAR='2020';\n",
            "UPDATE KBO_BATTOTAL SET PA_FLAG=False WHERE PCODE='62265' and GYEAR='2020';\n",
            "UPDATE KBO_BATTOTAL SET PA_FLAG=False WHERE PCODE='62353' and GYEAR='2020';\n",
            "UPDATE KBO_BATTOTAL SET PA_FLAG=False WHERE PCODE='62356' and GYEAR='2020';\n",
            "UPDATE KBO_BATTOTAL SET PA_FLAG=False WHERE PCODE='62404' and GYEAR='2020';\n",
            "UPDATE KBO_BATTOTAL SET PA_FLAG=False WHERE PCODE='62409' and GYEAR='2020';\n",
            "UPDATE KBO_BATTOTAL SET PA_FLAG=True WHERE PCODE='62415' and GYEAR='2020';\n",
            "UPDATE KBO_BATTOTAL SET PA_FLAG=False WHERE PCODE='62528' and GYEAR='2020';\n",
            "UPDATE KBO_BATTOTAL SET PA_FLAG=False WHERE PCODE='62556' and GYEAR='2020';\n",
            "UPDATE KBO_BATTOTAL SET PA_FLAG=False WHERE PCODE='62558' and GYEAR='2020';\n",
            "UPDATE KBO_BATTOTAL SET PA_FLAG=True WHERE PCODE='62700' and GYEAR='2020';\n",
            "UPDATE KBO_BATTOTAL SET PA_FLAG=False WHERE PCODE='62802' and GYEAR='2020';\n",
            "UPDATE KBO_BATTOTAL SET PA_FLAG=False WHERE PCODE='62884' and GYEAR='2020';\n",
            "UPDATE KBO_BATTOTAL SET PA_FLAG=False WHERE PCODE='62893' and GYEAR='2020';\n",
            "UPDATE KBO_BATTOTAL SET PA_FLAG=True WHERE PCODE='62895' and GYEAR='2020';\n",
            "UPDATE KBO_BATTOTAL SET PA_FLAG=True WHERE PCODE='62907' and GYEAR='2020';\n",
            "UPDATE KBO_BATTOTAL SET PA_FLAG=False WHERE PCODE='62908' and GYEAR='2020';\n",
            "UPDATE KBO_BATTOTAL SET PA_FLAG=False WHERE PCODE='62925' and GYEAR='2020';\n",
            "UPDATE KBO_BATTOTAL SET PA_FLAG=True WHERE PCODE='62931' and GYEAR='2020';\n",
            "UPDATE KBO_BATTOTAL SET PA_FLAG=False WHERE PCODE='62934' and GYEAR='2020';\n",
            "UPDATE KBO_BATTOTAL SET PA_FLAG=True WHERE PCODE='62947' and GYEAR='2020';\n",
            "UPDATE KBO_BATTOTAL SET PA_FLAG=False WHERE PCODE='63257' and GYEAR='2020';\n",
            "UPDATE KBO_BATTOTAL SET PA_FLAG=False WHERE PCODE='63260' and GYEAR='2020';\n",
            "UPDATE KBO_BATTOTAL SET PA_FLAG=False WHERE PCODE='63435' and GYEAR='2020';\n",
            "UPDATE KBO_BATTOTAL SET PA_FLAG=False WHERE PCODE='63440' and GYEAR='2020';\n",
            "UPDATE KBO_BATTOTAL SET PA_FLAG=False WHERE PCODE='63450' and GYEAR='2020';\n",
            "UPDATE KBO_BATTOTAL SET PA_FLAG=False WHERE PCODE='63634' and GYEAR='2020';\n",
            "UPDATE KBO_BATTOTAL SET PA_FLAG=False WHERE PCODE='63700' and GYEAR='2020';\n",
            "UPDATE KBO_BATTOTAL SET PA_FLAG=False WHERE PCODE='63704' and GYEAR='2020';\n",
            "UPDATE KBO_BATTOTAL SET PA_FLAG=False WHERE PCODE='63722' and GYEAR='2020';\n",
            "UPDATE KBO_BATTOTAL SET PA_FLAG=False WHERE PCODE='63920' and GYEAR='2020';\n",
            "UPDATE KBO_BATTOTAL SET PA_FLAG=False WHERE PCODE='63963' and GYEAR='2020';\n",
            "UPDATE KBO_BATTOTAL SET PA_FLAG=True WHERE PCODE='64004' and GYEAR='2020';\n",
            "UPDATE KBO_BATTOTAL SET PA_FLAG=True WHERE PCODE='64006' and GYEAR='2020';\n",
            "UPDATE KBO_BATTOTAL SET PA_FLAG=False WHERE PCODE='64012' and GYEAR='2020';\n",
            "UPDATE KBO_BATTOTAL SET PA_FLAG=False WHERE PCODE='64100' and GYEAR='2020';\n",
            "UPDATE KBO_BATTOTAL SET PA_FLAG=True WHERE PCODE='64166' and GYEAR='2020';\n",
            "UPDATE KBO_BATTOTAL SET PA_FLAG=True WHERE PCODE='64300' and GYEAR='2020';\n",
            "UPDATE KBO_BATTOTAL SET PA_FLAG=True WHERE PCODE='64346' and GYEAR='2020';\n",
            "UPDATE KBO_BATTOTAL SET PA_FLAG=False WHERE PCODE='64499' and GYEAR='2020';\n",
            "UPDATE KBO_BATTOTAL SET PA_FLAG=True WHERE PCODE='64646' and GYEAR='2020';\n",
            "UPDATE KBO_BATTOTAL SET PA_FLAG=False WHERE PCODE='64657' and GYEAR='2020';\n",
            "UPDATE KBO_BATTOTAL SET PA_FLAG=False WHERE PCODE='64868' and GYEAR='2020';\n",
            "UPDATE KBO_BATTOTAL SET PA_FLAG=False WHERE PCODE='64906' and GYEAR='2020';\n",
            "UPDATE KBO_BATTOTAL SET PA_FLAG=False WHERE PCODE='64984' and GYEAR='2020';\n",
            "UPDATE KBO_BATTOTAL SET PA_FLAG=False WHERE PCODE='64995' and GYEAR='2020';\n",
            "UPDATE KBO_BATTOTAL SET PA_FLAG=False WHERE PCODE='65464' and GYEAR='2020';\n",
            "UPDATE KBO_BATTOTAL SET PA_FLAG=False WHERE PCODE='65496' and GYEAR='2020';\n",
            "UPDATE KBO_BATTOTAL SET PA_FLAG=False WHERE PCODE='65586' and GYEAR='2020';\n",
            "UPDATE KBO_BATTOTAL SET PA_FLAG=False WHERE PCODE='65869' and GYEAR='2020';\n",
            "UPDATE KBO_BATTOTAL SET PA_FLAG=False WHERE PCODE='66108' and GYEAR='2020';\n",
            "UPDATE KBO_BATTOTAL SET PA_FLAG=True WHERE PCODE='66409' and GYEAR='2020';\n",
            "UPDATE KBO_BATTOTAL SET PA_FLAG=True WHERE PCODE='66606' and GYEAR='2020';\n",
            "UPDATE KBO_BATTOTAL SET PA_FLAG=False WHERE PCODE='66706' and GYEAR='2020';\n",
            "UPDATE KBO_BATTOTAL SET PA_FLAG=True WHERE PCODE='66838' and GYEAR='2020';\n",
            "UPDATE KBO_BATTOTAL SET PA_FLAG=False WHERE PCODE='66917' and GYEAR='2020';\n",
            "UPDATE KBO_BATTOTAL SET PA_FLAG=True WHERE PCODE='67025' and GYEAR='2020';\n",
            "UPDATE KBO_BATTOTAL SET PA_FLAG=False WHERE PCODE='67207' and GYEAR='2020';\n",
            "UPDATE KBO_BATTOTAL SET PA_FLAG=False WHERE PCODE='67304' and GYEAR='2020';\n",
            "UPDATE KBO_BATTOTAL SET PA_FLAG=True WHERE PCODE='67341' and GYEAR='2020';\n",
            "UPDATE KBO_BATTOTAL SET PA_FLAG=False WHERE PCODE='67391' and GYEAR='2020';\n",
            "UPDATE KBO_BATTOTAL SET PA_FLAG=False WHERE PCODE='67644' and GYEAR='2020';\n",
            "UPDATE KBO_BATTOTAL SET PA_FLAG=True WHERE PCODE='67872' and GYEAR='2020';\n",
            "UPDATE KBO_BATTOTAL SET PA_FLAG=True WHERE PCODE='68050' and GYEAR='2020';\n",
            "UPDATE KBO_BATTOTAL SET PA_FLAG=False WHERE PCODE='68362' and GYEAR='2020';\n",
            "UPDATE KBO_BATTOTAL SET PA_FLAG=False WHERE PCODE='68518' and GYEAR='2020';\n",
            "UPDATE KBO_BATTOTAL SET PA_FLAG=True WHERE PCODE='68525' and GYEAR='2020';\n",
            "UPDATE KBO_BATTOTAL SET PA_FLAG=True WHERE PCODE='68730' and GYEAR='2020';\n",
            "UPDATE KBO_BATTOTAL SET PA_FLAG=False WHERE PCODE='68743' and GYEAR='2020';\n",
            "UPDATE KBO_BATTOTAL SET PA_FLAG=False WHERE PCODE='69100' and GYEAR='2020';\n",
            "UPDATE KBO_BATTOTAL SET PA_FLAG=True WHERE PCODE='69209' and GYEAR='2020';\n",
            "UPDATE KBO_BATTOTAL SET PA_FLAG=False WHERE PCODE='69306' and GYEAR='2020';\n",
            "UPDATE KBO_BATTOTAL SET PA_FLAG=False WHERE PCODE='69399' and GYEAR='2020';\n",
            "UPDATE KBO_BATTOTAL SET PA_FLAG=False WHERE PCODE='69418' and GYEAR='2020';\n",
            "UPDATE KBO_BATTOTAL SET PA_FLAG=False WHERE PCODE='69439' and GYEAR='2020';\n",
            "UPDATE KBO_BATTOTAL SET PA_FLAG=False WHERE PCODE='69453' and GYEAR='2020';\n",
            "UPDATE KBO_BATTOTAL SET PA_FLAG=True WHERE PCODE='69652' and GYEAR='2020';\n",
            "UPDATE KBO_BATTOTAL SET PA_FLAG=False WHERE PCODE='69737' and GYEAR='2020';\n",
            "UPDATE KBO_BATTOTAL SET PA_FLAG=True WHERE PCODE='69825' and GYEAR='2020';\n",
            "UPDATE KBO_BATTOTAL SET PA_FLAG=False WHERE PCODE='69992' and GYEAR='2020';\n",
            "UPDATE KBO_BATTOTAL SET PA_FLAG=False WHERE PCODE='71184' and GYEAR='2020';\n",
            "UPDATE KBO_BATTOTAL SET PA_FLAG=True WHERE PCODE='71564' and GYEAR='2020';\n",
            "UPDATE KBO_BATTOTAL SET PA_FLAG=True WHERE PCODE='71752' and GYEAR='2020';\n",
            "UPDATE KBO_BATTOTAL SET PA_FLAG=False WHERE PCODE='71837' and GYEAR='2020';\n",
            "UPDATE KBO_BATTOTAL SET PA_FLAG=False WHERE PCODE='71842' and GYEAR='2020';\n"
          ],
          "name": "stdout"
        }
      ]
    },
    {
      "cell_type": "markdown",
      "metadata": {
        "id": "Wxb-GTnsihht",
        "colab_type": "text"
      },
      "source": [
        ""
      ]
    },
    {
      "cell_type": "code",
      "metadata": {
        "id": "EIZ69i4DCaJm",
        "colab_type": "code",
        "colab": {}
      },
      "source": [
        ""
      ],
      "execution_count": 0,
      "outputs": []
    }
  ]
}